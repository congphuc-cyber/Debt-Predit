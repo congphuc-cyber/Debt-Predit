{
  "nbformat": 4,
  "nbformat_minor": 0,
  "metadata": {
    "colab": {
      "provenance": []
    },
    "kernelspec": {
      "name": "python3",
      "display_name": "Python 3"
    },
    "language_info": {
      "name": "python"
    }
  },
  "cells": [
    {
      "cell_type": "code",
      "execution_count": null,
      "metadata": {
        "colab": {
          "base_uri": "https://localhost:8080/"
        },
        "id": "2LC-P_r8KU88",
        "outputId": "66f0193f-1383-4ca5-d4e8-f19c152f726e"
      },
      "outputs": [
        {
          "output_type": "stream",
          "name": "stdout",
          "text": [
            "Dữ liệu sau khi xử lý đặc trưng:\n",
            "     Income       Age  Experience  Married/Single  Car_Ownership  Profession  \\\n",
            "0  0.907864 -0.584421    0.123178               0              0    0.020052   \n",
            "1 -0.356528  0.940960   -0.050777               1              0    0.020616   \n",
            "2  0.442698 -0.525753   -1.268468               0              1    0.020052   \n",
            "3  0.058096 -0.173742    0.297134               0              0    0.017520   \n",
            "4  0.675441  0.823623   -0.050777               0              0    0.017520   \n",
            "\n",
            "   CURRENT_JOB_YRS  CURRENT_HOUSE_YRS  Risk_Flag      City     STATE  \\\n",
            "0         0.819348           0.716325          0  0.003370  0.101456   \n",
            "1        -0.593559          -1.428003          0  0.002731  0.023041   \n",
            "2        -1.158722           0.001549          1  0.002409  0.018477   \n",
            "3        -0.876140           1.431102          1  0.003211  0.065630   \n",
            "4        -1.723885           0.001549          0  0.003402  0.101456   \n",
            "\n",
            "   House_Ownership_norent_noown  House_Ownership_owned  House_Ownership_rented  \n",
            "0                             0                      0                       1  \n",
            "1                             0                      0                       1  \n",
            "2                             0                      0                       1  \n",
            "3                             0                      0                       1  \n",
            "4                             0                      0                       1  \n"
          ]
        }
      ],
      "source": [
        "import pandas as pd\n",
        "from sklearn.preprocessing import StandardScaler, LabelEncoder\n",
        "from sklearn.feature_selection import SelectKBest, chi2, f_classif\n",
        "\n",
        "# Đọc file đã làm sạch\n",
        "df = pd.read_csv('Cleaned_Data.csv')\n",
        "\n",
        "# Định nghĩa đặc trưng số và phân loại\n",
        "numeric_cols = ['Income', 'Age', 'Experience', 'CURRENT_JOB_YRS', 'CURRENT_HOUSE_YRS']\n",
        "categorical_features = ['Profession', 'City', 'STATE', 'Married/Single', 'Car_Ownership', 'House_Ownership']\n",
        "\n",
        "# 1. Đặc trưng số (numeric): chuẩn hóa\n",
        "scaler = StandardScaler()\n",
        "df[numeric_cols] = scaler.fit_transform(df[numeric_cols])\n",
        "\n",
        "# 2. Đặc trưng nhị phân (2 giá trị): Label Encoding cho Married/Single và Car_Ownership\n",
        "df['Married/Single'] = df['Married/Single'].str.lower().map({'single': 0, 'married': 1})\n",
        "df['Car_Ownership'] = df['Car_Ownership'].map({'no': 0, 'yes': 1})\n",
        "\n",
        "# 3. One-Hot Encoding cho House_Ownership\n",
        "house_dummies = pd.get_dummies(df['House_Ownership'], prefix='House_Ownership').astype(int)\n",
        "df = pd.concat([df, house_dummies], axis=1)\n",
        "df.drop('House_Ownership', axis=1, inplace=True)\n",
        "\n",
        "# 4. Chuẩn hóa Profession, City, STATE\n",
        "def frequency_encoding(df, column):\n",
        "    freq = df[column].value_counts(normalize=True)\n",
        "    return df[column].map(freq)\n",
        "\n",
        "for col in ['Profession', 'City', 'STATE']:\n",
        "    df[col] = frequency_encoding(df, col)\n",
        "\n",
        "# 5. Label Encoding cho cột Risk_Flag\n",
        "le_risk_flag = LabelEncoder()\n",
        "df['Risk_Flag'] = df['Risk_Flag'].str.lower().map({'safe': 0, 'risky': 1})\n",
        "\n",
        "# In ra kết quả sau khi xử lý đặc trưng\n",
        "print(\"Dữ liệu sau khi xử lý đặc trưng:\")\n",
        "print(df.head())\n"
      ]
    },
    {
      "cell_type": "code",
      "source": [
        "# 6. Phương pháp 1: Chi-Square Test cho các đặc trưng phân loại\n",
        "categorical_features = ['Married/Single', 'Car_Ownership', 'House_Ownership_norent_noown',\n",
        "                       'House_Ownership_owned', 'House_Ownership_rented']\n",
        "X_chi2 = df[categorical_features].copy()\n",
        "X_chi2 = X_chi2.apply(lambda x: x + abs(x.min()) if x.min() < 0 else x)\n",
        "\n",
        "chi2_selector = SelectKBest(score_func=chi2, k='all')\n",
        "chi2_selector.fit(X_chi2, df['Risk_Flag'])\n",
        "chi2_scores = pd.DataFrame({\n",
        "    'Feature': categorical_features,\n",
        "    'Chi2 Score': chi2_selector.scores_,\n",
        "    'P-value': chi2_selector.pvalues_\n",
        "})\n",
        "significant_chi2_features = chi2_scores[chi2_scores['P-value'] <= 0.05]['Feature'].tolist()\n",
        "\n",
        "# In đặc trưng được chọn từ Chi-Square Test\n",
        "print(\"\\nĐặc trưng được chọn từ Chi-Square Test (p-value <= 0.05):\")\n",
        "print(significant_chi2_features)\n",
        "print(\"\\nChi tiết điểm số Chi-Square Test:\")\n",
        "print(chi2_scores)"
      ],
      "metadata": {
        "colab": {
          "base_uri": "https://localhost:8080/"
        },
        "id": "mIqxTpJIKcM7",
        "outputId": "c2e90fbd-8f5e-4d91-a205-7ee0c6aea672"
      },
      "execution_count": null,
      "outputs": [
        {
          "output_type": "stream",
          "name": "stdout",
          "text": [
            "\n",
            "Đặc trưng được chọn từ Chi-Square Test (p-value <= 0.05):\n",
            "['Married/Single', 'Car_Ownership', 'House_Ownership_norent_noown', 'House_Ownership_owned', 'House_Ownership_rented']\n",
            "\n",
            "Chi tiết điểm số Chi-Square Test:\n",
            "                        Feature  Chi2 Score       P-value\n",
            "0                Married/Single  101.410712  7.475843e-24\n",
            "1                 Car_Ownership   74.949690  4.828630e-18\n",
            "2  House_Ownership_norent_noown   32.323878  1.304998e-08\n",
            "3         House_Ownership_owned  116.222131  4.249335e-27\n",
            "4        House_Ownership_rented   12.288264  4.558154e-04\n"
          ]
        }
      ]
    },
    {
      "cell_type": "code",
      "source": [
        "# 7. Phương pháp 2: ANOVA (F-test) cho đặc trưng số\n",
        "numeric_cols = ['Income', 'Age', 'Experience', 'CURRENT_JOB_YRS', 'CURRENT_HOUSE_YRS',\n",
        "                'Profession', 'City', 'STATE']\n",
        "anova_selector = SelectKBest(score_func=f_classif, k='all')\n",
        "anova_selector.fit(df[numeric_cols], df['Risk_Flag'])\n",
        "anova_scores = pd.DataFrame({\n",
        "    'Feature': numeric_cols,\n",
        "    'F-Score': anova_selector.scores_,\n",
        "    'P-value': anova_selector.pvalues_\n",
        "})\n",
        "significant_anova_features = anova_scores[anova_scores['P-value'] <= 0.05]['Feature'].tolist()\n",
        "\n",
        "# In đặc trưng được chọn từ ANOVA\n",
        "print(\"\\nĐặc trưng được chọn từ ANOVA (F-test) (p-value <= 0.05):\")\n",
        "print(significant_anova_features)\n",
        "print(\"\\nChi tiết điểm số ANOVA (F-test):\")\n",
        "print(anova_scores)"
      ],
      "metadata": {
        "colab": {
          "base_uri": "https://localhost:8080/"
        },
        "id": "mvtDKnSuKgUz",
        "outputId": "87250b2a-ba8a-460e-94d9-e9bbbdea96f5"
      },
      "execution_count": null,
      "outputs": [
        {
          "output_type": "stream",
          "name": "stdout",
          "text": [
            "\n",
            "Đặc trưng được chọn từ ANOVA (F-test) (p-value <= 0.05):\n",
            "['Age', 'Experience', 'CURRENT_JOB_YRS', 'CURRENT_HOUSE_YRS', 'Profession', 'City']\n",
            "\n",
            "Chi tiết điểm số ANOVA (F-test):\n",
            "             Feature     F-Score        P-value\n",
            "0             Income    2.529796   1.117159e-01\n",
            "1                Age  118.689450   1.242319e-27\n",
            "2         Experience  458.254284  1.420934e-101\n",
            "3    CURRENT_JOB_YRS   98.234505   3.753050e-23\n",
            "4  CURRENT_HOUSE_YRS    4.924502   2.647932e-02\n",
            "5         Profession   18.778443   1.468740e-05\n",
            "6               City   11.962709   5.428486e-04\n",
            "7              STATE    0.012485   9.110320e-01\n"
          ]
        }
      ]
    },
    {
      "cell_type": "code",
      "source": [
        "# 8. Tổng hợp các đặc trưng quan trọng từ cả hai phương pháp\n",
        "selected_features = list(set(significant_chi2_features + significant_anova_features))\n",
        "print(\"\\nCác đặc trưng cuối cùng được chọn:\")\n",
        "print(selected_features)"
      ],
      "metadata": {
        "id": "UhHZQTH-Kic3",
        "colab": {
          "base_uri": "https://localhost:8080/"
        },
        "outputId": "a5385070-c60e-42e9-ef11-054b19b10f9a"
      },
      "execution_count": null,
      "outputs": [
        {
          "output_type": "stream",
          "name": "stdout",
          "text": [
            "\n",
            "Các đặc trưng cuối cùng được chọn:\n",
            "['Married/Single', 'CURRENT_JOB_YRS', 'City', 'Experience', 'House_Ownership_owned', 'Profession', 'CURRENT_HOUSE_YRS', 'House_Ownership_norent_noown', 'Car_Ownership', 'House_Ownership_rented', 'Age']\n"
          ]
        }
      ]
    },
    {
      "cell_type": "code",
      "source": [
        "# 9. Gán X và y\n",
        "X = df[selected_features]\n",
        "y = df['Risk_Flag']\n",
        "\n",
        "# In kết quả tổng hợp\n",
        "print(\"\\nĐặc trưng (X) sau khi chọn lọc:\")\n",
        "print(X.head())\n",
        "print(\"\\nNhãn (y):\")\n",
        "print(y.head())\n"
      ],
      "metadata": {
        "colab": {
          "base_uri": "https://localhost:8080/"
        },
        "id": "e-3K4_cmKkLp",
        "outputId": "f450e49d-ed4e-409a-d726-b9ec020d044a"
      },
      "execution_count": null,
      "outputs": [
        {
          "output_type": "stream",
          "name": "stdout",
          "text": [
            "\n",
            "Đặc trưng (X) sau khi chọn lọc:\n",
            "   Married/Single  CURRENT_JOB_YRS      City  Experience  \\\n",
            "0               0         0.819348  0.003370    0.123178   \n",
            "1               1        -0.593559  0.002731   -0.050777   \n",
            "2               0        -1.158722  0.002409   -1.268468   \n",
            "3               0        -0.876140  0.003211    0.297134   \n",
            "4               0        -1.723885  0.003402   -0.050777   \n",
            "\n",
            "   House_Ownership_owned  Profession  CURRENT_HOUSE_YRS  \\\n",
            "0                      0    0.020052           0.716325   \n",
            "1                      0    0.020616          -1.428003   \n",
            "2                      0    0.020052           0.001549   \n",
            "3                      0    0.017520           1.431102   \n",
            "4                      0    0.017520           0.001549   \n",
            "\n",
            "   House_Ownership_norent_noown  Car_Ownership  House_Ownership_rented  \\\n",
            "0                             0              0                       1   \n",
            "1                             0              0                       1   \n",
            "2                             0              1                       1   \n",
            "3                             0              0                       1   \n",
            "4                             0              0                       1   \n",
            "\n",
            "        Age  \n",
            "0 -0.584421  \n",
            "1  0.940960  \n",
            "2 -0.525753  \n",
            "3 -0.173742  \n",
            "4  0.823623  \n",
            "\n",
            "Nhãn (y):\n",
            "0    0\n",
            "1    0\n",
            "2    1\n",
            "3    1\n",
            "4    0\n",
            "Name: Risk_Flag, dtype: int64\n"
          ]
        }
      ]
    },
    {
      "cell_type": "code",
      "source": [
        "from imblearn.combine import SMOTETomek\n",
        "\n",
        "# Cân bằng dữ liệu toàn bộ trước khi chia\n",
        "smote_tomek = SMOTETomek(random_state=42)\n",
        "X_resampled, y_resampled = smote_tomek.fit_resample(X, y)\n",
        "\n",
        "# Kiểm tra phân phối lớp\n",
        "print(\"Phân phối lớp sau SMOTE + Tomek Links:\")\n",
        "print(pd.Series(y_resampled).value_counts(normalize=True))\n"
      ],
      "metadata": {
        "colab": {
          "base_uri": "https://localhost:8080/"
        },
        "id": "FSvMlbHYOm5N",
        "outputId": "1927adfe-d96b-4f0f-b1e8-52dd65d28e94"
      },
      "execution_count": null,
      "outputs": [
        {
          "output_type": "stream",
          "name": "stdout",
          "text": [
            "Phân phối lớp sau SMOTE + Tomek Links:\n",
            "Risk_Flag\n",
            "0    0.5\n",
            "1    0.5\n",
            "Name: proportion, dtype: float64\n"
          ]
        }
      ]
    },
    {
      "cell_type": "code",
      "source": [
        "# Chia tập train và test\n",
        "from sklearn.model_selection import train_test_split\n",
        "X_train, X_test, y_train, y_test = train_test_split(X_resampled, y_resampled, test_size=0.2, stratify=y_resampled, random_state=42) # Use y_resampled for stratification\n"
      ],
      "metadata": {
        "id": "MSdMjTHEOnbP"
      },
      "execution_count": null,
      "outputs": []
    },
    {
      "cell_type": "code",
      "source": [
        "from sklearn.tree import DecisionTreeClassifier\n",
        "from sklearn.metrics import classification_report\n",
        "import time\n",
        "\n",
        "# Đo thời gian bắt đầu\n",
        "start_time = time.time()\n",
        "\n",
        "# Khởi tạo và huấn luyện mô hình Decision Tree\n",
        "model = DecisionTreeClassifier(\n",
        "    random_state=42,        # để kết quả có thể lặp lại\n",
        "    class_weight='balanced' # (tuỳ chọn) nếu dữ liệu imbalanced\n",
        ")\n",
        "model.fit(X_train, y_train)\n",
        "\n",
        "y_pred = model.predict(X_test)\n",
        "\n",
        "\n",
        "print(\"\\nDecision Tree Report:\")\n",
        "print(classification_report(y_test, y_pred))\n",
        "\n",
        "# Đo thời gian thực thi\n",
        "DT_ex_time = time.time() - start_time\n",
        "print(f\"Thời gian thực thi: {DT_ex_time:.2f} giây\")"
      ],
      "metadata": {
        "colab": {
          "base_uri": "https://localhost:8080/"
        },
        "id": "ENwjCGN4OqhT",
        "outputId": "94b9f91f-37ad-43bf-ad01-f26874b7d01e"
      },
      "execution_count": null,
      "outputs": [
        {
          "output_type": "stream",
          "name": "stdout",
          "text": [
            "\n",
            "Decision Tree Report:\n",
            "              precision    recall  f1-score   support\n",
            "\n",
            "           0       0.94      0.90      0.92     43551\n",
            "           1       0.90      0.94      0.92     43551\n",
            "\n",
            "    accuracy                           0.92     87102\n",
            "   macro avg       0.92      0.92      0.92     87102\n",
            "weighted avg       0.92      0.92      0.92     87102\n",
            "\n",
            "Thời gian thực thi: 6.59 giây\n"
          ]
        }
      ]
    },
    {
      "cell_type": "code",
      "source": [
        "from sklearn.ensemble import RandomForestClassifier\n",
        "from sklearn.metrics import classification_report\n",
        "import time  # nhớ import time nếu chưa import\n",
        "\n",
        "# Đo thời gian bắt đầu\n",
        "RS_stime = time.time()\n",
        "\n",
        "# Tạo và huấn luyện mô hình\n",
        "model = RandomForestClassifier(class_weight='balanced', random_state=42)\n",
        "model.fit(X_train, y_train)\n",
        "\n",
        "\n",
        "y_pred_brf = model.predict(X_test)\n",
        "\n",
        "print(\"Balanced Random Forest Report:\")\n",
        "print(classification_report(y_test, y_pred_brf))\n",
        "\n",
        "# Đo thời gian thực thi\n",
        "RF_ex_time = time.time() - RS_stime\n",
        "print(f\"Thời gian thực thi: {RF_ex_time:.2f} giây\")\n"
      ],
      "metadata": {
        "colab": {
          "base_uri": "https://localhost:8080/"
        },
        "id": "ajjXRxKyOrBD",
        "outputId": "ed1754bf-f4ab-443f-a808-e925eb06cacb"
      },
      "execution_count": null,
      "outputs": [
        {
          "output_type": "stream",
          "name": "stdout",
          "text": [
            "Balanced Random Forest Report:\n",
            "              precision    recall  f1-score   support\n",
            "\n",
            "           0       0.96      0.92      0.94     43551\n",
            "           1       0.92      0.96      0.94     43551\n",
            "\n",
            "    accuracy                           0.94     87102\n",
            "   macro avg       0.94      0.94      0.94     87102\n",
            "weighted avg       0.94      0.94      0.94     87102\n",
            "\n",
            "Thời gian thực thi: 82.10 giây\n"
          ]
        }
      ]
    }
  ]
}